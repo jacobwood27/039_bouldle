{
 "cells": [
  {
   "cell_type": "code",
   "execution_count": 7,
   "metadata": {},
   "outputs": [],
   "source": [
    "import os\n",
    "import json\n",
    "import cv2"
   ]
  },
  {
   "cell_type": "code",
   "execution_count": 10,
   "metadata": {},
   "outputs": [],
   "source": [
    "IDS = [\n",
    "    # 107884306,\n",
    "    # 106036163,\n",
    "    # 106244180,\n",
    "    106551257,\n",
    "    106390524,\n",
    "    108312154,\n",
    "    108054353,\n",
    "    113748359,\n",
    "    105988462,\n",
    "    105811271,\n",
    "    105722608,\n",
    "    106432774,\n",
    "    106964471,\n",
    "    109933221,\n",
    "    105908345,\n",
    "    106340625,\n",
    "    107046859,\n",
    "    105722593,\n",
    "    105880763,\n",
    "    106403724,\n",
    "    107017522\n",
    "    ]"
   ]
  },
  {
   "cell_type": "code",
   "execution_count": 11,
   "metadata": {},
   "outputs": [],
   "source": [
    "def get_climb(id):\n",
    "    with open('stats.js') as dataFile:\n",
    "        data = dataFile.read()\n",
    "        obj = data[data.find('{') : data.rfind('}')+1]\n",
    "        jsonObj = json.loads(obj)\n",
    "        return jsonObj[str(id)]\n",
    "\n",
    "def download_vid(id):\n",
    "    climb = get_climb(id)\n",
    "    url = climb[\"src\"]\n",
    "    cmd = f\"youtube-dl -o proc/{id}/orig {url}\"\n",
    "    os.system(cmd)\n",
    "\n",
    "def make_dir_structure(id):\n",
    "    os.makedirs(f\"proc/{id}\", exist_ok=True)\n",
    "    os.makedirs(f\"proc/{id}/squares\", exist_ok=True)\n",
    "    os.makedirs(f\"proc/{id}/mat_fw\", exist_ok=True)\n",
    "    os.makedirs(f\"proc/{id}/mat_bw\", exist_ok=True)\n",
    "    os.makedirs(f\"proc/{id}/mat_mean\", exist_ok=True)\n",
    "    os.makedirs(f\"proc/{id}/hint\", exist_ok=True)"
   ]
  },
  {
   "cell_type": "markdown",
   "metadata": {},
   "source": [
    "First let's download everything. This should just be run overnight."
   ]
  },
  {
   "cell_type": "code",
   "execution_count": null,
   "metadata": {},
   "outputs": [],
   "source": [
    "for ID in IDS:\n",
    "    make_dir_structure(ID)\n",
    "    download_vid(ID)"
   ]
  },
  {
   "cell_type": "markdown",
   "metadata": {},
   "source": [
    "Then we need to interact with the video and do some tracking. We'll track \"center coordinates\" with the mouse tracking over the belly button. We'll also size the square needed to contain the climber at their biggest."
   ]
  }
 ],
 "metadata": {
  "interpreter": {
   "hash": "31f2aee4e71d21fbe5cf8b01ff0e069b9275f58929596ceb00d14d90e3e16cd6"
  },
  "kernelspec": {
   "display_name": "Python 3.8.10 64-bit",
   "language": "python",
   "name": "python3"
  },
  "language_info": {
   "codemirror_mode": {
    "name": "ipython",
    "version": 3
   },
   "file_extension": ".py",
   "mimetype": "text/x-python",
   "name": "python",
   "nbconvert_exporter": "python",
   "pygments_lexer": "ipython3",
   "version": "3.8.10"
  },
  "orig_nbformat": 4
 },
 "nbformat": 4,
 "nbformat_minor": 2
}
